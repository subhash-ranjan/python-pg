{
  "nbformat": 4,
  "nbformat_minor": 0,
  "metadata": {
    "colab": {
      "provenance": [],
      "include_colab_link": true
    },
    "kernelspec": {
      "name": "python3",
      "display_name": "Python 3"
    },
    "language_info": {
      "name": "python"
    }
  },
  "cells": [
    {
      "cell_type": "markdown",
      "metadata": {
        "id": "view-in-github",
        "colab_type": "text"
      },
      "source": [
        "<a href=\"https://colab.research.google.com/github/subhash-ranjan/python-pg/blob/main/python_tests.ipynb\" target=\"_parent\"><img src=\"https://colab.research.google.com/assets/colab-badge.svg\" alt=\"Open In Colab\"/></a>"
      ]
    },
    {
      "cell_type": "code",
      "execution_count": null,
      "metadata": {
        "colab": {
          "base_uri": "https://localhost:8080/"
        },
        "id": "gGBVLXI3R6ZM",
        "outputId": "7248c658-3d1d-4ddc-c2b6-96048015103e"
      },
      "outputs": [
        {
          "name": "stdout",
          "output_type": "stream",
          "text": [
            "12\n",
            "insert 0 5\n",
            "insert 1 10\n",
            "insert 0 6\n",
            "print\n",
            "[6, 5, 10]\n",
            "remove 6\n",
            "append 9\n",
            "append 1\n",
            "append 1\n",
            "sort\n",
            "print\n",
            "[1, 1, 5, 9, 10]\n",
            "pop\n",
            "reverse\n"
          ]
        }
      ],
      "source": [
        "arr = []\n",
        "\n",
        "def do_action():\n",
        "    act, *p = input().split()\n",
        "    \n",
        "    if act == \"insert\":\n",
        "        arr.insert(int(p[0]), int(p[1]))\n",
        "    elif act == \"print\":\n",
        "        print(arr)\n",
        "    elif act == \"remove\":\n",
        "        arr.remove(int(p[0]))\n",
        "    elif act == \"append\":\n",
        "        arr.append(int(p[0]))\n",
        "    elif act == \"sort\":\n",
        "        arr.sort()\n",
        "    elif act == \"pop\":\n",
        "        arr.pop()\n",
        "    elif act == \"reverse\":\n",
        "        arr.reverse()\n",
        "    else:\n",
        "        print(\"Wrong command\")\n",
        "\n",
        "if __name__ == '__main__':\n",
        "    N = int(input())\n",
        "    for _ in range(N):\n",
        "        do_action()"
      ]
    },
    {
      "cell_type": "markdown",
      "source": [],
      "metadata": {
        "id": "AVi_Dy_hg0pw"
      }
    },
    {
      "cell_type": "code",
      "source": [
        "arr = map(int, input().split())\n",
        "arr\n",
        "print(arr)\n",
        "\n"
      ],
      "metadata": {
        "colab": {
          "base_uri": "https://localhost:8080/"
        },
        "id": "1j8zDd6F3-v5",
        "outputId": "522a2f92-b379-4099-fa33-b0084a2bcef5"
      },
      "execution_count": null,
      "outputs": [
        {
          "output_type": "stream",
          "name": "stdout",
          "text": [
            "2 3 6 6 5\n",
            "<map object at 0x7f5ef1bd7d10>\n"
          ]
        }
      ]
    },
    {
      "cell_type": "markdown",
      "source": [
        "## Two sum problem"
      ],
      "metadata": {
        "id": "NWdcjrbtg18y"
      }
    },
    {
      "cell_type": "code",
      "source": [
        "class Solution(object):\n",
        "    def twoSum(self, nums, target):\n",
        "        \"\"\"\n",
        "        :type nums: List[int]\n",
        "        :type target: int\n",
        "        :rtype: List[int]\n",
        "        \"\"\"\n",
        "\n",
        "        elements = dict()\n",
        "        result=[]\n",
        "\n",
        "        for index, item in enumerate(nums):\n",
        "          required = target- item\n",
        "          if required in elements:\n",
        "            result = elements[required],index\n",
        "            break\n",
        "          elif item not in elements:\n",
        "            elements[item]= index\n",
        "\n",
        "        print(elements)\n",
        "        print(result)\n",
        "\n",
        "        return result\n",
        "\n",
        "sol =  Solution()\n",
        "arr = [2,7,11,15]\n",
        "res = sol.twoSum(arr, 18)\n"
      ],
      "metadata": {
        "colab": {
          "base_uri": "https://localhost:8080/"
        },
        "id": "-JSUicrng9Bz",
        "outputId": "d831fb4b-11c2-4d82-bd7c-a5eb436e17b5"
      },
      "execution_count": null,
      "outputs": [
        {
          "output_type": "stream",
          "name": "stdout",
          "text": [
            "{2: 0, 7: 1}\n",
            "(1, 2)\n"
          ]
        }
      ]
    },
    {
      "cell_type": "markdown",
      "source": [
        "## Roman to integer"
      ],
      "metadata": {
        "id": "aC0tNtHHuTvy"
      }
    },
    {
      "cell_type": "code",
      "source": [
        "\n",
        "\n",
        "class Solution(object):\n",
        "  def romanToInt(self, s):\n",
        "        \"\"\"\n",
        "        :type s: str\n",
        "        :rtype: int\n",
        "        \"\"\"\n",
        "        i = 0\n",
        "        result =0\n",
        "        print(len(s))\n",
        "        while(i <len(s)):\n",
        "            if  i+1<len(s):\n",
        "              v1 = self.getValue(s[i])\n",
        "              v2 = self.getValue(s[i+1])\n",
        "              if v1<v2:\n",
        "                result= result - v1\n",
        "              else:\n",
        "                result= result + v1\n",
        "            else:\n",
        "                result= result + self.getValue(s[i])\n",
        "\n",
        "            i=i+1\n",
        "        \n",
        "        return result\n",
        "      \n",
        "  def getValue(self, str):\n",
        "        if str=='I':\n",
        "            return 1\n",
        "        elif str=='V':\n",
        "            return 5\n",
        "        elif str=='X':\n",
        "            return 10\n",
        "        elif str=='L':\n",
        "            return 50\n",
        "        elif str=='C':\n",
        "            return 100\n",
        "        elif str=='D':\n",
        "            return 500\n",
        "        elif str=='M':\n",
        "            return 1000\n",
        "\n",
        "\n",
        "s= Solution()\n",
        "out = s.romanToInt('LVIII')\n",
        "print(out)\n",
        "\n",
        "        "
      ],
      "metadata": {
        "id": "MumbhathuYZ4",
        "outputId": "03c3104d-1d99-4e4d-a6f7-b89b0a8ce602",
        "colab": {
          "base_uri": "https://localhost:8080/"
        }
      },
      "execution_count": 15,
      "outputs": [
        {
          "output_type": "stream",
          "name": "stdout",
          "text": [
            "5\n",
            "58\n"
          ]
        }
      ]
    }
  ]
}