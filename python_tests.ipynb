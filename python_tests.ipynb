{
  "nbformat": 4,
  "nbformat_minor": 0,
  "metadata": {
    "colab": {
      "provenance": [],
      "include_colab_link": true
    },
    "kernelspec": {
      "name": "python3",
      "display_name": "Python 3"
    },
    "language_info": {
      "name": "python"
    }
  },
  "cells": [
    {
      "cell_type": "markdown",
      "metadata": {
        "id": "view-in-github",
        "colab_type": "text"
      },
      "source": [
        "<a href=\"https://colab.research.google.com/github/subhash-ranjan/python-pg/blob/main/python_tests.ipynb\" target=\"_parent\"><img src=\"https://colab.research.google.com/assets/colab-badge.svg\" alt=\"Open In Colab\"/></a>"
      ]
    },
    {
      "cell_type": "code",
      "execution_count": null,
      "metadata": {
        "colab": {
          "base_uri": "https://localhost:8080/"
        },
        "id": "gGBVLXI3R6ZM",
        "outputId": "7248c658-3d1d-4ddc-c2b6-96048015103e"
      },
      "outputs": [
        {
          "name": "stdout",
          "output_type": "stream",
          "text": [
            "12\n",
            "insert 0 5\n",
            "insert 1 10\n",
            "insert 0 6\n",
            "print\n",
            "[6, 5, 10]\n",
            "remove 6\n",
            "append 9\n",
            "append 1\n",
            "append 1\n",
            "sort\n",
            "print\n",
            "[1, 1, 5, 9, 10]\n",
            "pop\n",
            "reverse\n"
          ]
        }
      ],
      "source": [
        "arr = []\n",
        "\n",
        "def do_action():\n",
        "    act, *p = input().split()\n",
        "    \n",
        "    if act == \"insert\":\n",
        "        arr.insert(int(p[0]), int(p[1]))\n",
        "    elif act == \"print\":\n",
        "        print(arr)\n",
        "    elif act == \"remove\":\n",
        "        arr.remove(int(p[0]))\n",
        "    elif act == \"append\":\n",
        "        arr.append(int(p[0]))\n",
        "    elif act == \"sort\":\n",
        "        arr.sort()\n",
        "    elif act == \"pop\":\n",
        "        arr.pop()\n",
        "    elif act == \"reverse\":\n",
        "        arr.reverse()\n",
        "    else:\n",
        "        print(\"Wrong command\")\n",
        "\n",
        "if __name__ == '__main__':\n",
        "    N = int(input())\n",
        "    for _ in range(N):\n",
        "        do_action()"
      ]
    },
    {
      "cell_type": "markdown",
      "source": [],
      "metadata": {
        "id": "AVi_Dy_hg0pw"
      }
    },
    {
      "cell_type": "code",
      "source": [
        "arr = map(int, input().split())\n",
        "arr\n",
        "print(arr)\n",
        "\n"
      ],
      "metadata": {
        "colab": {
          "base_uri": "https://localhost:8080/"
        },
        "id": "1j8zDd6F3-v5",
        "outputId": "522a2f92-b379-4099-fa33-b0084a2bcef5"
      },
      "execution_count": null,
      "outputs": [
        {
          "output_type": "stream",
          "name": "stdout",
          "text": [
            "2 3 6 6 5\n",
            "<map object at 0x7f5ef1bd7d10>\n"
          ]
        }
      ]
    },
    {
      "cell_type": "markdown",
      "source": [
        "## Two sum problem"
      ],
      "metadata": {
        "id": "NWdcjrbtg18y"
      }
    },
    {
      "cell_type": "code",
      "source": [
        "class Solution(object):\n",
        "    def twoSum(self, nums, target):\n",
        "        \"\"\"\n",
        "        :type nums: List[int]\n",
        "        :type target: int\n",
        "        :rtype: List[int]\n",
        "        \"\"\"\n",
        "        elements = dict()\n",
        "        result=[]\n",
        "\n",
        "        for index, item in enumerate(nums):\n",
        "          required = target- item\n",
        "          if item not in elements:\n",
        "            if required in elements:\n",
        "              result = elements[required],index\n",
        "              break\n",
        "            elements[item]= index\n",
        "\n",
        "sol =  Solution()\n",
        "arr = [2,7,11,15]\n",
        "sol.twoSum(arr, 13)"
      ],
      "metadata": {
        "colab": {
          "base_uri": "https://localhost:8080/"
        },
        "id": "-JSUicrng9Bz",
        "outputId": "d9111bdb-2a8a-4876-8733-2d75f1e44497"
      },
      "execution_count": 18,
      "outputs": [
        {
          "output_type": "stream",
          "name": "stdout",
          "text": [
            "(0, 2)\n",
            "{2: 0, 7: 1}\n"
          ]
        }
      ]
    }
  ]
}